{
 "cells": [
  {
   "cell_type": "markdown",
   "metadata": {},
   "source": [
    "# Natural Language Processing - Introduction\n",
    "### [Digital Methodology in the Humanities and Cultural Sciences](https://www.digitale-methodik.uni-mainz.de/) / Winter semester 2021  \n"
   ]
  },
  {
   "cell_type": "markdown",
   "metadata": {},
   "source": [
    "## Content  \n",
    "\n",
    "- **Introduction (20/10/2021)**\n",
    " - text formats\n",
    " - reading files\n",
    " - python built-in methods for strings\n",
    " - regular expressions"
   ]
  },
  {
   "cell_type": "markdown",
   "metadata": {},
   "source": [
    "### 1. Text formats\n",
    "*Text extracted from [Applied Language Technology](https://applied-language-technology.readthedocs.io/en/latest/notebooks/part_ii/01_basic_text_processing.html#what-is-rich-text)*\n",
    "\n",
    "#### What is rich text?\n",
    "\n",
    "Word processors, such as Microsoft Word, produce [rich text](https://en.wikipedia.org/wiki/Formatted_text), that is, text whose appearance has been formatted or styled in a specific way.\n",
    "Rich text allows defining specific visual styles for document elements. Headers, for example, may use a different font than the body text, which may in turn feature *italic* or **bold** fonts for emphasis. Rich text can also include various types of images, tables and other document elements.\n",
    "Rich text is the default format for modern what-you-see-is-what-you-get word processors.\n",
    "\n",
    "#### What is plain text?\n",
    "\n",
    "Unlike rich text, [plain text](https://en.wikipedia.org/wiki/Plain_text) does not contain any information about the visual appearance of text, but consists of *characters* only.\n",
    "Characters, in this context, refers to letters, numbers, punctuation marks, spaces and line breaks.\n",
    "The definition of plain text is fairly loose, but generally the term refers to text which lacks any formatting or style information.\n",
    "\n",
    "\n",
    "#### What is structured text?\n",
    "\n",
    "Structured text may be thought of as a special case of plain text, which includes character sequences that are used to format the text for display.\n",
    "Forms of structured text include text described using mark-up languages such as XML, Markdown or HTML.  \n",
    "The example below shows a plain text sentence wrapped into HTML tags for paragraphs `<p>`. \n",
    "The opening tag `<p>` and the closing tag `</p>` instruct the computer that any content placed between these tags form a paragraph.\n",
    "\n",
    "``` \n",
    "<p>This is an example sentence.</p>\n",
    "```\n",
    "\n",
    "This information is used for structuring plain text when *rendering* text for display, typically by styling its appearance.\n",
    "\n",
    "#### Why does this matter?\n",
    "\n",
    "If you collect a bunch of texts for a corpus, chances are that some originated in rich or structured format, depending on the medium these texts came from.\n",
    "\n",
    "If you collect printed documents that have been digitized using a technique such as [optical character recognition](https://en.wikipedia.org/wiki/Optical_character_recognition) (OCR) and subsequently converted from rich into plain text, the removal of formatting information is likely to introduce errors into the resulting plain text. Working with this kind of \"dirty\" OCR can have an impact on the results of text analysis (Hill & Hengchen [2019](https://doi.org/10.1093/llc/fqz024)).\n",
    "\n",
    "If you collect digital documents by scraping discussion forums or websites, you are likely to encounter traces of structured text in the form of markup tags, which may be carried over to plain text during conversion.\n",
    "\n",
    "Plain text is by far the most interchangeable format for text, as it is easy to read for computers. This is why programming languages work with plain text, and if you plan to use programming languages to manipulate text, you need to know what plain text is. \n",
    "\n",
    "To summarise, when working with plain text, you may need to deal with traces left by conversion from rich or structured text."
   ]
  },
  {
   "cell_type": "markdown",
   "metadata": {},
   "source": [
    "### 2. Reading documents  \n",
    "\n",
    "Built-in method [open()](https://docs.python.org/3/library/functions.html#open)"
   ]
  },
  {
   "cell_type": "code",
   "execution_count": null,
   "metadata": {},
   "outputs": [],
   "source": [
    "# reading the whole document at once\n",
    "with open('data/stairwaytoheaven.txt', 'r', encoding='UTF-8') as f:\n",
    "    text = f.read()"
   ]
  },
  {
   "cell_type": "code",
   "execution_count": null,
   "metadata": {},
   "outputs": [],
   "source": [
    "print(f)"
   ]
  },
  {
   "cell_type": "code",
   "execution_count": null,
   "metadata": {},
   "outputs": [],
   "source": [
    "print(len(text))\n",
    "print(text)"
   ]
  },
  {
   "cell_type": "code",
   "execution_count": null,
   "metadata": {},
   "outputs": [],
   "source": [
    "print(text[:25])\n",
    "# the string is like a list in wich each character is an element"
   ]
  },
  {
   "cell_type": "code",
   "execution_count": null,
   "metadata": {},
   "outputs": [],
   "source": [
    "# reading the document line by line\n",
    "with open('data/stairwaytoheaven.txt', 'r', encoding='UTF-8') as f:\n",
    "    text = []\n",
    "    for line in f:\n",
    "        text.append(line)"
   ]
  },
  {
   "cell_type": "code",
   "execution_count": null,
   "metadata": {},
   "outputs": [],
   "source": [
    "print(len(text))\n",
    "print(text)"
   ]
  },
  {
   "cell_type": "code",
   "execution_count": null,
   "metadata": {},
   "outputs": [],
   "source": [
    "print(text[:25])\n",
    "# now each element of the list is a string sentence"
   ]
  },
  {
   "cell_type": "code",
   "execution_count": null,
   "metadata": {},
   "outputs": [],
   "source": [
    "print(text[0])\n",
    "print(text[0][:5])"
   ]
  },
  {
   "cell_type": "markdown",
   "metadata": {},
   "source": [
    "### 3. Manipulating strings  \n",
    "Several built-in [string methods](https://docs.python.org/3/library/stdtypes.html#string-methods)"
   ]
  },
  {
   "cell_type": "code",
   "execution_count": null,
   "metadata": {},
   "outputs": [],
   "source": [
    "# reading the whole document at once\n",
    "with open('data/stairwaytoheaven.txt', 'r', encoding='UTF-8') as f:\n",
    "    text = f.read()"
   ]
  },
  {
   "cell_type": "code",
   "execution_count": null,
   "metadata": {},
   "outputs": [],
   "source": [
    "# repr()\n",
    "print(repr(text))"
   ]
  },
  {
   "cell_type": "code",
   "execution_count": null,
   "metadata": {},
   "outputs": [],
   "source": [
    "# replace()\n",
    "processed_text = text.replace('\\n',' ')\n",
    "print(repr(processed_text))"
   ]
  },
  {
   "cell_type": "code",
   "execution_count": null,
   "metadata": {},
   "outputs": [],
   "source": [
    "# strip() for leading or trailing whitespace\n",
    "processed_text = '    ' + processed_text\n",
    "print(repr(processed_text))\n",
    "print('\\n')\n",
    "processed_text = processed_text.strip()\n",
    "print(repr(processed_text))"
   ]
  },
  {
   "cell_type": "code",
   "execution_count": null,
   "metadata": {},
   "outputs": [],
   "source": [
    "# split()\n",
    "text_list = processed_text.split()\n",
    "print(text_list)"
   ]
  },
  {
   "cell_type": "code",
   "execution_count": null,
   "metadata": {},
   "outputs": [],
   "source": [
    "print(len(text_list))\n",
    "print(len(set(text_list)))"
   ]
  },
  {
   "cell_type": "code",
   "execution_count": null,
   "metadata": {},
   "outputs": [],
   "source": [
    "text_list = processed_text.split(',')\n",
    "print(text_list)"
   ]
  },
  {
   "cell_type": "code",
   "execution_count": null,
   "metadata": {},
   "outputs": [],
   "source": [
    "text_list = [sentence.strip() for sentence in text_list]\n",
    "print(text_list)"
   ]
  },
  {
   "cell_type": "code",
   "execution_count": null,
   "metadata": {},
   "outputs": [],
   "source": [
    "text_list = text.split('\\n')\n",
    "print(text_list)"
   ]
  },
  {
   "cell_type": "code",
   "execution_count": null,
   "metadata": {},
   "outputs": [],
   "source": [
    "# lower()\n",
    "processed_text = processed_text.lower()\n",
    "print(repr(processed_text))"
   ]
  },
  {
   "cell_type": "code",
   "execution_count": null,
   "metadata": {},
   "outputs": [],
   "source": [
    "text_list = processed_text.split()\n",
    "print(len(text_list))\n",
    "print(len(set(text_list)))"
   ]
  },
  {
   "cell_type": "code",
   "execution_count": null,
   "metadata": {},
   "outputs": [],
   "source": [
    "# find()\n",
    "print(processed_text.find('wind'))"
   ]
  },
  {
   "cell_type": "markdown",
   "metadata": {},
   "source": [
    "### 4. Regular Expressions  \n",
    "Library [re](https://docs.python.org/3/library/re.html)  \n",
    "Testing your regular expressions with [Regex101](https://regex101.com/)  \n",
    "\n",
    "*Text extracted from [python.org](https://docs.python.org/3/howto/regex.html)*  \n",
    "Regular expressions (called REs, or regexes, or regex patterns) are essentially a tiny, highly specialized programming language embedded inside Python and made available through the `re` module. Using this little language, you specify the rules for the set of possible strings that you want to match; this set might contain English sentences, or e-mail addresses, or TeX commands, or anything you like. You can then ask questions such as “Does this string match the pattern?”, or “Is there a match for the pattern anywhere in this string?”. You can also use REs to modify a string or to split it apart in various ways.  \n",
    "\n",
    "#### Matching Characters\n",
    "Most letters and characters will simply match themselves. For example, the regular expression `test` will match the string `test` exactly. (You can enable a case-insensitive mode that would let this RE match `Test` or `TEST` as well.)\n",
    "\n",
    "There are exceptions to this rule; some characters are special metacharacters, and don’t match themselves. Instead, they signal that some out-of-the-ordinary thing should be matched, or they affect other portions of the RE by repeating them or changing their meaning.\n",
    "\n",
    "Here’s a complete list of the metacharacters:  \n",
    "    `. ^ $ * + ? { } [ ] \\ | ( ) `\n",
    "    \n",
    "And a summary:  \n",
    "\n",
    "![](img/regex_summary.jpg \"Regex\")\n"
   ]
  },
  {
   "cell_type": "code",
   "execution_count": null,
   "metadata": {},
   "outputs": [],
   "source": [
    "# let's try\n",
    "import re\n",
    "\n",
    "text = 'I would like to extract a phone number, for instance, this +49 178 666-6666. Another example \\\n",
    "        is +55 123 4444-5555'\n",
    "pattern = r\"\\+\\d{2}\\s\\d{3}\\s\\d{3,4}[-]\\d{4}\"\n",
    "\n",
    "matches = re.findall(pattern, text)\n",
    "print (matches)\n"
   ]
  },
  {
   "cell_type": "code",
   "execution_count": null,
   "metadata": {},
   "outputs": [],
   "source": []
  }
 ],
 "metadata": {
  "kernelspec": {
   "display_name": "Python 3",
   "language": "python",
   "name": "python3"
  },
  "language_info": {
   "codemirror_mode": {
    "name": "ipython",
    "version": 3
   },
   "file_extension": ".py",
   "mimetype": "text/x-python",
   "name": "python",
   "nbconvert_exporter": "python",
   "pygments_lexer": "ipython3",
   "version": "3.7.5"
  }
 },
 "nbformat": 4,
 "nbformat_minor": 2
}
