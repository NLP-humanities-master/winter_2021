{
 "cells": [
  {
   "cell_type": "markdown",
   "metadata": {},
   "source": [
    "# Introduction to topic modeling with gensim and spaCy"
   ]
  },
  {
   "cell_type": "code",
   "execution_count": null,
   "metadata": {},
   "outputs": [],
   "source": [
    "import gensim\n",
    "import gensim.corpora as corpora\n",
    "from gensim.models import CoherenceModel\n",
    "import spacy\n",
    "\n",
    "import numpy as np\n",
    "import pandas as pd\n",
    "import os"
   ]
  },
  {
   "cell_type": "code",
   "execution_count": null,
   "metadata": {},
   "outputs": [],
   "source": [
    "# loading the English model\n",
    "nlp = spacy.load('en_core_web_sm')\n",
    "\n",
    "# we don't want to split words with apostrophe\n",
    "nlp.tokenizer.rules = {key: value for key, value in nlp.tokenizer.rules.items() if \"'\" not in key and \"’\" not in key and \"‘\" not in key}"
   ]
  },
  {
   "cell_type": "code",
   "execution_count": null,
   "metadata": {},
   "outputs": [],
   "source": [
    "path_to_folder = 'data/topic_models/'"
   ]
  },
  {
   "cell_type": "code",
   "execution_count": null,
   "metadata": {},
   "outputs": [],
   "source": [
    "path_to_files=sorted([os.path.join(path_to_folder, f) for f in os.listdir(path_to_folder)])"
   ]
  },
  {
   "cell_type": "markdown",
   "metadata": {},
   "source": [
    "#### Preprocessing the corpus"
   ]
  },
  {
   "cell_type": "code",
   "execution_count": null,
   "metadata": {},
   "outputs": [],
   "source": [
    "# add as many stopwords necessary\n",
    "extra_stop = ['mr','ms','mrs','hon']"
   ]
  },
  {
   "cell_type": "code",
   "execution_count": null,
   "metadata": {},
   "outputs": [],
   "source": [
    "# turning the texts into tokens:\n",
    "tokenized_corpus = []\n",
    "\n",
    "for my_file in path_to_files:\n",
    "    \n",
    "    with open(my_file, encoding='utf-8') as f:\n",
    "        text = f.readlines()\n",
    "        text = ''.join(text).replace('\\n',' ')\n",
    "        \n",
    "        # turn all the lines into a single string\n",
    "        text = ''.join(text)\n",
    "    \n",
    "        # create the spacy doc object with the text all in lowercase\n",
    "        doc = nlp(text.lower())\n",
    "\n",
    "        # filtering tokens and lemmatizing\n",
    "        text = []\n",
    "        for word in doc:\n",
    "            if not word.is_stop and not word.is_punct and not word.like_num and word.lemma_ not in extra_stop:\n",
    "                #print(word.lemma_)\n",
    "                text.append(word.lemma_)\n",
    "            \n",
    "        tokenized_corpus.append(text)"
   ]
  },
  {
   "cell_type": "markdown",
   "metadata": {},
   "source": [
    "#### Turning the corpus into bags of words"
   ]
  },
  {
   "cell_type": "code",
   "execution_count": null,
   "metadata": {},
   "outputs": [],
   "source": [
    "# mapping words to ids\n",
    "words_id = corpora.Dictionary(tokenized_corpus)\n",
    "\n",
    "# corpus becomes a bag of words\n",
    "corpus = [words_id.doc2bow(txt) for txt in tokenized_corpus]"
   ]
  },
  {
   "cell_type": "markdown",
   "metadata": {},
   "source": [
    "##### Checking coherence score"
   ]
  },
  {
   "cell_type": "code",
   "execution_count": null,
   "metadata": {},
   "outputs": [],
   "source": [
    "# checking \"optimal\" number of topics\n",
    "k_init = 5\n",
    "k_final = 15\n",
    "for k in range(k_init,k_final+1):\n",
    "    lda_model = gensim.models.ldamodel.LdaModel(corpus=corpus,\n",
    "                                           id2word=words_id,\n",
    "                                           num_topics=k, \n",
    "                                           random_state=50,\n",
    "                                           passes=20,\n",
    "                                           per_word_topics=True)\n",
    "    \n",
    "    # let's compute perplexity (lower) and coherence score (higher)\n",
    "    per_lda = lda_model.log_perplexity(corpus)\n",
    "    coherence_model_lda = CoherenceModel(model=lda_model, texts=tokenized_corpus, dictionary=words_id, coherence='c_v')\n",
    "    coherence_lda = coherence_model_lda.get_coherence()\n",
    "    print(k,per_lda,coherence_lda)"
   ]
  },
  {
   "cell_type": "markdown",
   "metadata": {},
   "source": [
    "##### Running lda model for number of topics with highest cohrence score"
   ]
  },
  {
   "cell_type": "code",
   "execution_count": null,
   "metadata": {},
   "outputs": [],
   "source": [
    "lda_model = gensim.models.ldamodel.LdaModel(corpus=corpus,\n",
    "                                           id2word=words_id,\n",
    "                                           num_topics=15, \n",
    "                                           random_state=50,\n",
    "                                           passes=20,\n",
    "                                           per_word_topics=True)"
   ]
  },
  {
   "cell_type": "markdown",
   "metadata": {},
   "source": [
    "##### Topic composition"
   ]
  },
  {
   "cell_type": "code",
   "execution_count": null,
   "metadata": {},
   "outputs": [],
   "source": [
    "lda_model.show_topics(num_words=10,num_topics=15)"
   ]
  }
 ],
 "metadata": {
  "kernelspec": {
   "display_name": "Python 3",
   "language": "python",
   "name": "python3"
  },
  "language_info": {
   "codemirror_mode": {
    "name": "ipython",
    "version": 3
   },
   "file_extension": ".py",
   "mimetype": "text/x-python",
   "name": "python",
   "nbconvert_exporter": "python",
   "pygments_lexer": "ipython3",
   "version": "3.7.5"
  }
 },
 "nbformat": 4,
 "nbformat_minor": 2
}
