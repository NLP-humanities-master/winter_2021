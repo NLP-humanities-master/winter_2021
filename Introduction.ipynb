{
 "cells": [
  {
   "cell_type": "markdown",
   "metadata": {},
   "source": [
    "# Natural Language Processing\n",
    "### [Digital Methodology in the Humanities and Cultural Sciences](https://www.digitale-methodik.uni-mainz.de/) / Winter semester 2021  \n",
    "\n",
    "[Johannes-Gutenberg Universität](https://www.uni-mainz.de/)  \n",
    "[Hochschule Mainz](https://www.hs-mainz.de/)  \n",
    "[Akademie der Wissenschaften und der Literatur | Mainz](https://www.adwmainz.de/startseite.html)  \n",
    "[Leibniz-Institut für Europäaische Geschichte](https://www.ieg-mainz.de/)  "
   ]
  },
  {
   "cell_type": "markdown",
   "metadata": {},
   "source": [
    "## Course content  \n",
    "\n",
    "- **Introduction (20/10)**\n",
    " - text formats\n",
    " - reading files\n",
    " - python built-in methods for strings\n",
    " - regular expressions"
   ]
  },
  {
   "cell_type": "markdown",
   "metadata": {},
   "source": [
    "## Introduction"
   ]
  },
  {
   "cell_type": "markdown",
   "metadata": {},
   "source": [
    "### 1. Text formats\n",
    "*Text extracted from [Applied Language Technology](https://applied-language-technology.readthedocs.io/en/latest/notebooks/part_ii/01_basic_text_processing.html#what-is-rich-text)*\n",
    "\n",
    "#### What is rich text?\n",
    "\n",
    "Word processors, such as Microsoft Word, produce [rich text](https://en.wikipedia.org/wiki/Formatted_text), that is, text whose appearance has been formatted or styled in a specific way.\n",
    "Rich text allows defining specific visual styles for document elements. Headers, for example, may use a different font than the body text, which may in turn feature *italic* or **bold** fonts for emphasis. Rich text can also include various types of images, tables and other document elements.\n",
    "Rich text is the default format for modern what-you-see-is-what-you-get word processors.\n",
    "\n",
    "#### What is plain text?\n",
    "\n",
    "Unlike rich text, [plain text](https://en.wikipedia.org/wiki/Plain_text) does not contain any information about the visual appearance of text, but consists of *characters* only.\n",
    "Characters, in this context, refers to letters, numbers, punctuation marks, spaces and line breaks.\n",
    "The definition of plain text is fairly loose, but generally the term refers to text which lacks any formatting or style information.\n",
    "\n",
    "\n",
    "#### What is structured text?\n",
    "\n",
    "Structured text may be thought of as a special case of plain text, which includes character sequences that are used to format the text for display.\n",
    "Forms of structured text include text described using mark-up languages such as XML, Markdown or HTML.  \n",
    "The example below shows a plain text sentence wrapped into HTML tags for paragraphs `<p>`. \n",
    "The opening tag `<p>` and the closing tag `</p>` instruct the computer that any content placed between these tags form a paragraph.\n",
    "\n",
    "``` \n",
    "<p>This is an example sentence.</p>\n",
    "```\n",
    "\n",
    "This information is used for structuring plain text when *rendering* text for display, typically by styling its appearance.\n",
    "\n",
    "#### Why does this matter?\n",
    "\n",
    "If you collect a bunch of texts for a corpus, chances are that some originated in rich or structured format, depending on the medium these texts came from.\n",
    "\n",
    "If you collect printed documents that have been digitized using a technique such as [optical character recognition](https://en.wikipedia.org/wiki/Optical_character_recognition) (OCR) and subsequently converted from rich into plain text, the removal of formatting information is likely to introduce errors into the resulting plain text. Working with this kind of \"dirty\" OCR can have an impact on the results of text analysis (Hill & Hengchen [2019](https://doi.org/10.1093/llc/fqz024)).\n",
    "\n",
    "If you collect digital documents by scraping discussion forums or websites, you are likely to encounter traces of structured text in the form of markup tags, which may be carried over to plain text during conversion.\n",
    "\n",
    "Plain text is by far the most interchangeable format for text, as it is easy to read for computers. This is why programming languages work with plain text, and if you plan to use programming languages to manipulate text, you need to know what plain text is. \n",
    "\n",
    "To summarise, when working with plain text, you may need to deal with traces left by conversion from rich or structured text."
   ]
  },
  {
   "cell_type": "markdown",
   "metadata": {},
   "source": [
    "### 2. Reading documents  \n",
    "\n",
    "Built-in method [open()](https://docs.python.org/3/library/functions.html#open)"
   ]
  },
  {
   "cell_type": "code",
   "execution_count": 46,
   "metadata": {},
   "outputs": [],
   "source": [
    "# reading the whole document at once\n",
    "with open('data/stairwaytoheaven.txt', 'r', encoding='UTF-8') as f:\n",
    "    text = f.read()"
   ]
  },
  {
   "cell_type": "code",
   "execution_count": 47,
   "metadata": {},
   "outputs": [
    {
     "name": "stdout",
     "output_type": "stream",
     "text": [
      "<_io.TextIOWrapper name='data/stairwaytoheaven.txt' mode='r' encoding='UTF-8'>\n"
     ]
    }
   ],
   "source": [
    "print(f)"
   ]
  },
  {
   "cell_type": "code",
   "execution_count": 48,
   "metadata": {},
   "outputs": [
    {
     "name": "stdout",
     "output_type": "stream",
     "text": [
      "1641\n",
      "There's a lady who's sure all that glitters is gold\n",
      "And she's buying a stairway to heaven\n",
      "When she gets there she knows, if the stores are all closed\n",
      "With a word she can get what she came for\n",
      "Ooh, ooh, and she's buying a stairway to heaven\n",
      "There's a sign on the wall, but she wants to be sure\n",
      "'Cause you know sometimes words have two meanings\n",
      "In a tree by the brook, there's a songbird who sings\n",
      "Sometimes all of our thoughts are misgiven\n",
      "It makes me wonder\n",
      "Makes me wonder\n",
      "There's a feeling I get when I look to the west\n",
      "And my spirit is crying for leaving\n",
      "In my thoughts I have seen rings of smoke through the trees\n",
      "And the voices of those who stand looking\n",
      "Makes me wonder\n",
      "And it makes me wonder\n",
      "And it's whispered that soon, if we all call the tune\n",
      "Then the piper will lead us to reason\n",
      "And a new day will dawn for those who stand long\n",
      "And the forests will echo with laughter\n",
      "If there's a bustle in your hedgerow, don't be alarmed now\n",
      "It's just a spring clean for the May queen\n",
      "Yes, there are two paths you can go by, but in the long run\n",
      "There's still time to change the road you're on\n",
      "And it makes me wonder\n",
      "Your head is humming and it won't go, in case you don't know\n",
      "The piper's calling you to join him\n",
      "Dear lady, can you hear the wind blow, and did you know\n",
      "Your stairway lies on the whispering wind?\n",
      "And as we wind on down the road\n",
      "Our shadows taller than our soul\n",
      "There walks a lady we all know\n",
      "Who shines white light and wants to show\n",
      "How everything still turns to gold\n",
      "And if you listen very hard\n",
      "The tune will come to you at last\n",
      "When all is one and one is all\n",
      "To be a rock and not to roll\n",
      "And she's buying a stairway to heaven\n",
      "\n"
     ]
    }
   ],
   "source": [
    "print(len(text))\n",
    "print(text)"
   ]
  },
  {
   "cell_type": "code",
   "execution_count": 49,
   "metadata": {},
   "outputs": [
    {
     "name": "stdout",
     "output_type": "stream",
     "text": [
      "There's a lady who's sure\n"
     ]
    }
   ],
   "source": [
    "print(text[:25])\n",
    "# the string is like a list in wich each character is an element"
   ]
  },
  {
   "cell_type": "code",
   "execution_count": 50,
   "metadata": {},
   "outputs": [],
   "source": [
    "# reading the document line by line\n",
    "with open('data/stairwaytoheaven.txt', 'r', encoding='UTF-8') as f:\n",
    "    text = []\n",
    "    for line in f:\n",
    "        text.append(line)"
   ]
  },
  {
   "cell_type": "code",
   "execution_count": 51,
   "metadata": {},
   "outputs": [
    {
     "name": "stdout",
     "output_type": "stream",
     "text": [
      "40\n",
      "[\"There's a lady who's sure all that glitters is gold\\n\", \"And she's buying a stairway to heaven\\n\", 'When she gets there she knows, if the stores are all closed\\n', 'With a word she can get what she came for\\n', \"Ooh, ooh, and she's buying a stairway to heaven\\n\", \"There's a sign on the wall, but she wants to be sure\\n\", \"'Cause you know sometimes words have two meanings\\n\", \"In a tree by the brook, there's a songbird who sings\\n\", 'Sometimes all of our thoughts are misgiven\\n', 'It makes me wonder\\n', 'Makes me wonder\\n', \"There's a feeling I get when I look to the west\\n\", 'And my spirit is crying for leaving\\n', 'In my thoughts I have seen rings of smoke through the trees\\n', 'And the voices of those who stand looking\\n', 'Makes me wonder\\n', 'And it makes me wonder\\n', \"And it's whispered that soon, if we all call the tune\\n\", 'Then the piper will lead us to reason\\n', 'And a new day will dawn for those who stand long\\n', 'And the forests will echo with laughter\\n', \"If there's a bustle in your hedgerow, don't be alarmed now\\n\", \"It's just a spring clean for the May queen\\n\", 'Yes, there are two paths you can go by, but in the long run\\n', \"There's still time to change the road you're on\\n\", 'And it makes me wonder\\n', \"Your head is humming and it won't go, in case you don't know\\n\", \"The piper's calling you to join him\\n\", 'Dear lady, can you hear the wind blow, and did you know\\n', 'Your stairway lies on the whispering wind?\\n', 'And as we wind on down the road\\n', 'Our shadows taller than our soul\\n', 'There walks a lady we all know\\n', 'Who shines white light and wants to show\\n', 'How everything still turns to gold\\n', 'And if you listen very hard\\n', 'The tune will come to you at last\\n', 'When all is one and one is all\\n', 'To be a rock and not to roll\\n', \"And she's buying a stairway to heaven\\n\"]\n"
     ]
    }
   ],
   "source": [
    "print(len(text))\n",
    "print(text)"
   ]
  },
  {
   "cell_type": "code",
   "execution_count": 52,
   "metadata": {},
   "outputs": [
    {
     "name": "stdout",
     "output_type": "stream",
     "text": [
      "[\"There's a lady who's sure all that glitters is gold\\n\", \"And she's buying a stairway to heaven\\n\", 'When she gets there she knows, if the stores are all closed\\n', 'With a word she can get what she came for\\n', \"Ooh, ooh, and she's buying a stairway to heaven\\n\", \"There's a sign on the wall, but she wants to be sure\\n\", \"'Cause you know sometimes words have two meanings\\n\", \"In a tree by the brook, there's a songbird who sings\\n\", 'Sometimes all of our thoughts are misgiven\\n', 'It makes me wonder\\n', 'Makes me wonder\\n', \"There's a feeling I get when I look to the west\\n\", 'And my spirit is crying for leaving\\n', 'In my thoughts I have seen rings of smoke through the trees\\n', 'And the voices of those who stand looking\\n', 'Makes me wonder\\n', 'And it makes me wonder\\n', \"And it's whispered that soon, if we all call the tune\\n\", 'Then the piper will lead us to reason\\n', 'And a new day will dawn for those who stand long\\n', 'And the forests will echo with laughter\\n', \"If there's a bustle in your hedgerow, don't be alarmed now\\n\", \"It's just a spring clean for the May queen\\n\", 'Yes, there are two paths you can go by, but in the long run\\n', \"There's still time to change the road you're on\\n\"]\n"
     ]
    }
   ],
   "source": [
    "print(text[:25])\n",
    "# now each element of the list is a string sentence"
   ]
  },
  {
   "cell_type": "code",
   "execution_count": 53,
   "metadata": {},
   "outputs": [
    {
     "name": "stdout",
     "output_type": "stream",
     "text": [
      "There's a lady who's sure all that glitters is gold\n",
      "\n",
      "There\n"
     ]
    }
   ],
   "source": [
    "print(text[0])\n",
    "print(text[0][:5])"
   ]
  },
  {
   "cell_type": "markdown",
   "metadata": {},
   "source": [
    "## 3. Manipulating strings  \n",
    "Several built-in [string methods](https://docs.python.org/3/library/stdtypes.html#string-methods)"
   ]
  },
  {
   "cell_type": "code",
   "execution_count": 65,
   "metadata": {},
   "outputs": [],
   "source": [
    "# reading the whole document at once\n",
    "with open('data/stairwaytoheaven.txt', 'r', encoding='UTF-8') as f:\n",
    "    text = f.read()"
   ]
  },
  {
   "cell_type": "code",
   "execution_count": 66,
   "metadata": {},
   "outputs": [
    {
     "name": "stdout",
     "output_type": "stream",
     "text": [
      "\"There's a lady who's sure all that glitters is gold\\nAnd she's buying a stairway to heaven\\nWhen she gets there she knows, if the stores are all closed\\nWith a word she can get what she came for\\nOoh, ooh, and she's buying a stairway to heaven\\nThere's a sign on the wall, but she wants to be sure\\n'Cause you know sometimes words have two meanings\\nIn a tree by the brook, there's a songbird who sings\\nSometimes all of our thoughts are misgiven\\nIt makes me wonder\\nMakes me wonder\\nThere's a feeling I get when I look to the west\\nAnd my spirit is crying for leaving\\nIn my thoughts I have seen rings of smoke through the trees\\nAnd the voices of those who stand looking\\nMakes me wonder\\nAnd it makes me wonder\\nAnd it's whispered that soon, if we all call the tune\\nThen the piper will lead us to reason\\nAnd a new day will dawn for those who stand long\\nAnd the forests will echo with laughter\\nIf there's a bustle in your hedgerow, don't be alarmed now\\nIt's just a spring clean for the May queen\\nYes, there are two paths you can go by, but in the long run\\nThere's still time to change the road you're on\\nAnd it makes me wonder\\nYour head is humming and it won't go, in case you don't know\\nThe piper's calling you to join him\\nDear lady, can you hear the wind blow, and did you know\\nYour stairway lies on the whispering wind?\\nAnd as we wind on down the road\\nOur shadows taller than our soul\\nThere walks a lady we all know\\nWho shines white light and wants to show\\nHow everything still turns to gold\\nAnd if you listen very hard\\nThe tune will come to you at last\\nWhen all is one and one is all\\nTo be a rock and not to roll\\nAnd she's buying a stairway to heaven\\n\"\n"
     ]
    }
   ],
   "source": [
    "# repr()\n",
    "print(repr(text))"
   ]
  },
  {
   "cell_type": "code",
   "execution_count": 67,
   "metadata": {},
   "outputs": [
    {
     "name": "stdout",
     "output_type": "stream",
     "text": [
      "\"There's a lady who's sure all that glitters is gold And she's buying a stairway to heaven When she gets there she knows, if the stores are all closed With a word she can get what she came for Ooh, ooh, and she's buying a stairway to heaven There's a sign on the wall, but she wants to be sure 'Cause you know sometimes words have two meanings In a tree by the brook, there's a songbird who sings Sometimes all of our thoughts are misgiven It makes me wonder Makes me wonder There's a feeling I get when I look to the west And my spirit is crying for leaving In my thoughts I have seen rings of smoke through the trees And the voices of those who stand looking Makes me wonder And it makes me wonder And it's whispered that soon, if we all call the tune Then the piper will lead us to reason And a new day will dawn for those who stand long And the forests will echo with laughter If there's a bustle in your hedgerow, don't be alarmed now It's just a spring clean for the May queen Yes, there are two paths you can go by, but in the long run There's still time to change the road you're on And it makes me wonder Your head is humming and it won't go, in case you don't know The piper's calling you to join him Dear lady, can you hear the wind blow, and did you know Your stairway lies on the whispering wind? And as we wind on down the road Our shadows taller than our soul There walks a lady we all know Who shines white light and wants to show How everything still turns to gold And if you listen very hard The tune will come to you at last When all is one and one is all To be a rock and not to roll And she's buying a stairway to heaven \"\n"
     ]
    }
   ],
   "source": [
    "# replace()\n",
    "processed_text = text.replace('\\n',' ')\n",
    "print(repr(processed_text))"
   ]
  },
  {
   "cell_type": "code",
   "execution_count": 68,
   "metadata": {},
   "outputs": [
    {
     "name": "stdout",
     "output_type": "stream",
     "text": [
      "\"    There's a lady who's sure all that glitters is gold And she's buying a stairway to heaven When she gets there she knows, if the stores are all closed With a word she can get what she came for Ooh, ooh, and she's buying a stairway to heaven There's a sign on the wall, but she wants to be sure 'Cause you know sometimes words have two meanings In a tree by the brook, there's a songbird who sings Sometimes all of our thoughts are misgiven It makes me wonder Makes me wonder There's a feeling I get when I look to the west And my spirit is crying for leaving In my thoughts I have seen rings of smoke through the trees And the voices of those who stand looking Makes me wonder And it makes me wonder And it's whispered that soon, if we all call the tune Then the piper will lead us to reason And a new day will dawn for those who stand long And the forests will echo with laughter If there's a bustle in your hedgerow, don't be alarmed now It's just a spring clean for the May queen Yes, there are two paths you can go by, but in the long run There's still time to change the road you're on And it makes me wonder Your head is humming and it won't go, in case you don't know The piper's calling you to join him Dear lady, can you hear the wind blow, and did you know Your stairway lies on the whispering wind? And as we wind on down the road Our shadows taller than our soul There walks a lady we all know Who shines white light and wants to show How everything still turns to gold And if you listen very hard The tune will come to you at last When all is one and one is all To be a rock and not to roll And she's buying a stairway to heaven \"\n",
      "\n",
      "\n",
      "\"There's a lady who's sure all that glitters is gold And she's buying a stairway to heaven When she gets there she knows, if the stores are all closed With a word she can get what she came for Ooh, ooh, and she's buying a stairway to heaven There's a sign on the wall, but she wants to be sure 'Cause you know sometimes words have two meanings In a tree by the brook, there's a songbird who sings Sometimes all of our thoughts are misgiven It makes me wonder Makes me wonder There's a feeling I get when I look to the west And my spirit is crying for leaving In my thoughts I have seen rings of smoke through the trees And the voices of those who stand looking Makes me wonder And it makes me wonder And it's whispered that soon, if we all call the tune Then the piper will lead us to reason And a new day will dawn for those who stand long And the forests will echo with laughter If there's a bustle in your hedgerow, don't be alarmed now It's just a spring clean for the May queen Yes, there are two paths you can go by, but in the long run There's still time to change the road you're on And it makes me wonder Your head is humming and it won't go, in case you don't know The piper's calling you to join him Dear lady, can you hear the wind blow, and did you know Your stairway lies on the whispering wind? And as we wind on down the road Our shadows taller than our soul There walks a lady we all know Who shines white light and wants to show How everything still turns to gold And if you listen very hard The tune will come to you at last When all is one and one is all To be a rock and not to roll And she's buying a stairway to heaven\"\n"
     ]
    }
   ],
   "source": [
    "# strip() for leading or trailing whitespace\n",
    "processed_text = '    ' + processed_text\n",
    "print(repr(processed_text))\n",
    "print('\\n')\n",
    "processed_text = processed_text.strip()\n",
    "print(repr(processed_text))"
   ]
  },
  {
   "cell_type": "code",
   "execution_count": 69,
   "metadata": {},
   "outputs": [
    {
     "name": "stdout",
     "output_type": "stream",
     "text": [
      "[\"There's\", 'a', 'lady', \"who's\", 'sure', 'all', 'that', 'glitters', 'is', 'gold', 'And', \"she's\", 'buying', 'a', 'stairway', 'to', 'heaven', 'When', 'she', 'gets', 'there', 'she', 'knows,', 'if', 'the', 'stores', 'are', 'all', 'closed', 'With', 'a', 'word', 'she', 'can', 'get', 'what', 'she', 'came', 'for', 'Ooh,', 'ooh,', 'and', \"she's\", 'buying', 'a', 'stairway', 'to', 'heaven', \"There's\", 'a', 'sign', 'on', 'the', 'wall,', 'but', 'she', 'wants', 'to', 'be', 'sure', \"'Cause\", 'you', 'know', 'sometimes', 'words', 'have', 'two', 'meanings', 'In', 'a', 'tree', 'by', 'the', 'brook,', \"there's\", 'a', 'songbird', 'who', 'sings', 'Sometimes', 'all', 'of', 'our', 'thoughts', 'are', 'misgiven', 'It', 'makes', 'me', 'wonder', 'Makes', 'me', 'wonder', \"There's\", 'a', 'feeling', 'I', 'get', 'when', 'I', 'look', 'to', 'the', 'west', 'And', 'my', 'spirit', 'is', 'crying', 'for', 'leaving', 'In', 'my', 'thoughts', 'I', 'have', 'seen', 'rings', 'of', 'smoke', 'through', 'the', 'trees', 'And', 'the', 'voices', 'of', 'those', 'who', 'stand', 'looking', 'Makes', 'me', 'wonder', 'And', 'it', 'makes', 'me', 'wonder', 'And', \"it's\", 'whispered', 'that', 'soon,', 'if', 'we', 'all', 'call', 'the', 'tune', 'Then', 'the', 'piper', 'will', 'lead', 'us', 'to', 'reason', 'And', 'a', 'new', 'day', 'will', 'dawn', 'for', 'those', 'who', 'stand', 'long', 'And', 'the', 'forests', 'will', 'echo', 'with', 'laughter', 'If', \"there's\", 'a', 'bustle', 'in', 'your', 'hedgerow,', \"don't\", 'be', 'alarmed', 'now', \"It's\", 'just', 'a', 'spring', 'clean', 'for', 'the', 'May', 'queen', 'Yes,', 'there', 'are', 'two', 'paths', 'you', 'can', 'go', 'by,', 'but', 'in', 'the', 'long', 'run', \"There's\", 'still', 'time', 'to', 'change', 'the', 'road', \"you're\", 'on', 'And', 'it', 'makes', 'me', 'wonder', 'Your', 'head', 'is', 'humming', 'and', 'it', \"won't\", 'go,', 'in', 'case', 'you', \"don't\", 'know', 'The', \"piper's\", 'calling', 'you', 'to', 'join', 'him', 'Dear', 'lady,', 'can', 'you', 'hear', 'the', 'wind', 'blow,', 'and', 'did', 'you', 'know', 'Your', 'stairway', 'lies', 'on', 'the', 'whispering', 'wind?', 'And', 'as', 'we', 'wind', 'on', 'down', 'the', 'road', 'Our', 'shadows', 'taller', 'than', 'our', 'soul', 'There', 'walks', 'a', 'lady', 'we', 'all', 'know', 'Who', 'shines', 'white', 'light', 'and', 'wants', 'to', 'show', 'How', 'everything', 'still', 'turns', 'to', 'gold', 'And', 'if', 'you', 'listen', 'very', 'hard', 'The', 'tune', 'will', 'come', 'to', 'you', 'at', 'last', 'When', 'all', 'is', 'one', 'and', 'one', 'is', 'all', 'To', 'be', 'a', 'rock', 'and', 'not', 'to', 'roll', 'And', \"she's\", 'buying', 'a', 'stairway', 'to', 'heaven']\n"
     ]
    }
   ],
   "source": [
    "# split()\n",
    "text_list = processed_text.split()\n",
    "print(text_list)"
   ]
  },
  {
   "cell_type": "code",
   "execution_count": 70,
   "metadata": {},
   "outputs": [
    {
     "name": "stdout",
     "output_type": "stream",
     "text": [
      "335\n",
      "179\n"
     ]
    }
   ],
   "source": [
    "print(len(text_list))\n",
    "print(len(set(text_list)))"
   ]
  },
  {
   "cell_type": "code",
   "execution_count": 71,
   "metadata": {},
   "outputs": [
    {
     "name": "stdout",
     "output_type": "stream",
     "text": [
      "[\"There's a lady who's sure all that glitters is gold And she's buying a stairway to heaven When she gets there she knows\", ' if the stores are all closed With a word she can get what she came for Ooh', ' ooh', \" and she's buying a stairway to heaven There's a sign on the wall\", \" but she wants to be sure 'Cause you know sometimes words have two meanings In a tree by the brook\", \" there's a songbird who sings Sometimes all of our thoughts are misgiven It makes me wonder Makes me wonder There's a feeling I get when I look to the west And my spirit is crying for leaving In my thoughts I have seen rings of smoke through the trees And the voices of those who stand looking Makes me wonder And it makes me wonder And it's whispered that soon\", \" if we all call the tune Then the piper will lead us to reason And a new day will dawn for those who stand long And the forests will echo with laughter If there's a bustle in your hedgerow\", \" don't be alarmed now It's just a spring clean for the May queen Yes\", ' there are two paths you can go by', \" but in the long run There's still time to change the road you're on And it makes me wonder Your head is humming and it won't go\", \" in case you don't know The piper's calling you to join him Dear lady\", ' can you hear the wind blow', \" and did you know Your stairway lies on the whispering wind? And as we wind on down the road Our shadows taller than our soul There walks a lady we all know Who shines white light and wants to show How everything still turns to gold And if you listen very hard The tune will come to you at last When all is one and one is all To be a rock and not to roll And she's buying a stairway to heaven\"]\n"
     ]
    }
   ],
   "source": [
    "text_list = processed_text.split(',')\n",
    "print(text_list)"
   ]
  },
  {
   "cell_type": "code",
   "execution_count": 72,
   "metadata": {},
   "outputs": [
    {
     "name": "stdout",
     "output_type": "stream",
     "text": [
      "[\"There's a lady who's sure all that glitters is gold And she's buying a stairway to heaven When she gets there she knows\", 'if the stores are all closed With a word she can get what she came for Ooh', 'ooh', \"and she's buying a stairway to heaven There's a sign on the wall\", \"but she wants to be sure 'Cause you know sometimes words have two meanings In a tree by the brook\", \"there's a songbird who sings Sometimes all of our thoughts are misgiven It makes me wonder Makes me wonder There's a feeling I get when I look to the west And my spirit is crying for leaving In my thoughts I have seen rings of smoke through the trees And the voices of those who stand looking Makes me wonder And it makes me wonder And it's whispered that soon\", \"if we all call the tune Then the piper will lead us to reason And a new day will dawn for those who stand long And the forests will echo with laughter If there's a bustle in your hedgerow\", \"don't be alarmed now It's just a spring clean for the May queen Yes\", 'there are two paths you can go by', \"but in the long run There's still time to change the road you're on And it makes me wonder Your head is humming and it won't go\", \"in case you don't know The piper's calling you to join him Dear lady\", 'can you hear the wind blow', \"and did you know Your stairway lies on the whispering wind? And as we wind on down the road Our shadows taller than our soul There walks a lady we all know Who shines white light and wants to show How everything still turns to gold And if you listen very hard The tune will come to you at last When all is one and one is all To be a rock and not to roll And she's buying a stairway to heaven\"]\n"
     ]
    }
   ],
   "source": [
    "text_list = [sentence.strip() for sentence in text_list]\n",
    "print(text_list)"
   ]
  },
  {
   "cell_type": "code",
   "execution_count": 73,
   "metadata": {},
   "outputs": [
    {
     "name": "stdout",
     "output_type": "stream",
     "text": [
      "[\"There's a lady who's sure all that glitters is gold\", \"And she's buying a stairway to heaven\", 'When she gets there she knows, if the stores are all closed', 'With a word she can get what she came for', \"Ooh, ooh, and she's buying a stairway to heaven\", \"There's a sign on the wall, but she wants to be sure\", \"'Cause you know sometimes words have two meanings\", \"In a tree by the brook, there's a songbird who sings\", 'Sometimes all of our thoughts are misgiven', 'It makes me wonder', 'Makes me wonder', \"There's a feeling I get when I look to the west\", 'And my spirit is crying for leaving', 'In my thoughts I have seen rings of smoke through the trees', 'And the voices of those who stand looking', 'Makes me wonder', 'And it makes me wonder', \"And it's whispered that soon, if we all call the tune\", 'Then the piper will lead us to reason', 'And a new day will dawn for those who stand long', 'And the forests will echo with laughter', \"If there's a bustle in your hedgerow, don't be alarmed now\", \"It's just a spring clean for the May queen\", 'Yes, there are two paths you can go by, but in the long run', \"There's still time to change the road you're on\", 'And it makes me wonder', \"Your head is humming and it won't go, in case you don't know\", \"The piper's calling you to join him\", 'Dear lady, can you hear the wind blow, and did you know', 'Your stairway lies on the whispering wind?', 'And as we wind on down the road', 'Our shadows taller than our soul', 'There walks a lady we all know', 'Who shines white light and wants to show', 'How everything still turns to gold', 'And if you listen very hard', 'The tune will come to you at last', 'When all is one and one is all', 'To be a rock and not to roll', \"And she's buying a stairway to heaven\", '']\n"
     ]
    }
   ],
   "source": [
    "text_list = text.split('\\n')\n",
    "print(text_list)"
   ]
  },
  {
   "cell_type": "code",
   "execution_count": 75,
   "metadata": {},
   "outputs": [
    {
     "name": "stdout",
     "output_type": "stream",
     "text": [
      "\"there's a lady who's sure all that glitters is gold and she's buying a stairway to heaven when she gets there she knows, if the stores are all closed with a word she can get what she came for ooh, ooh, and she's buying a stairway to heaven there's a sign on the wall, but she wants to be sure 'cause you know sometimes words have two meanings in a tree by the brook, there's a songbird who sings sometimes all of our thoughts are misgiven it makes me wonder makes me wonder there's a feeling i get when i look to the west and my spirit is crying for leaving in my thoughts i have seen rings of smoke through the trees and the voices of those who stand looking makes me wonder and it makes me wonder and it's whispered that soon, if we all call the tune then the piper will lead us to reason and a new day will dawn for those who stand long and the forests will echo with laughter if there's a bustle in your hedgerow, don't be alarmed now it's just a spring clean for the may queen yes, there are two paths you can go by, but in the long run there's still time to change the road you're on and it makes me wonder your head is humming and it won't go, in case you don't know the piper's calling you to join him dear lady, can you hear the wind blow, and did you know your stairway lies on the whispering wind? and as we wind on down the road our shadows taller than our soul there walks a lady we all know who shines white light and wants to show how everything still turns to gold and if you listen very hard the tune will come to you at last when all is one and one is all to be a rock and not to roll and she's buying a stairway to heaven\"\n"
     ]
    }
   ],
   "source": [
    "# lower()\n",
    "processed_text = processed_text.lower()\n",
    "print(repr(processed_text))"
   ]
  },
  {
   "cell_type": "code",
   "execution_count": 76,
   "metadata": {},
   "outputs": [
    {
     "name": "stdout",
     "output_type": "stream",
     "text": [
      "335\n",
      "162\n"
     ]
    }
   ],
   "source": [
    "text_list = processed_text.split()\n",
    "print(len(text_list))\n",
    "print(len(set(text_list)))"
   ]
  },
  {
   "cell_type": "code",
   "execution_count": 77,
   "metadata": {},
   "outputs": [
    {
     "name": "stdout",
     "output_type": "stream",
     "text": [
      "1238\n"
     ]
    }
   ],
   "source": [
    "# find()\n",
    "print(processed_text.find('wind'))"
   ]
  },
  {
   "cell_type": "markdown",
   "metadata": {},
   "source": [
    "### 4. Regular Expressions  \n",
    "Library [re](https://docs.python.org/3/library/re.html)  \n",
    "Testing your regular expressions with [Regex101](https://regex101.com/)  \n",
    "\n",
    "*Text extracted from [python.org](https://docs.python.org/3/howto/regex.html)*  \n",
    "Regular expressions (called REs, or regexes, or regex patterns) are essentially a tiny, highly specialized programming language embedded inside Python and made available through the `re` module. Using this little language, you specify the rules for the set of possible strings that you want to match; this set might contain English sentences, or e-mail addresses, or TeX commands, or anything you like. You can then ask questions such as “Does this string match the pattern?”, or “Is there a match for the pattern anywhere in this string?”. You can also use REs to modify a string or to split it apart in various ways.  \n",
    "\n",
    "#### Matching Characters\n",
    "Most letters and characters will simply match themselves. For example, the regular expression `test` will match the string `test` exactly. (You can enable a case-insensitive mode that would let this RE match `Test` or `TEST` as well.)\n",
    "\n",
    "There are exceptions to this rule; some characters are special metacharacters, and don’t match themselves. Instead, they signal that some out-of-the-ordinary thing should be matched, or they affect other portions of the RE by repeating them or changing their meaning.\n",
    "\n",
    "Here’s a complete list of the metacharacters:  \n",
    "    `. ^ $ * + ? { } [ ] \\ | ( ) `\n",
    "    \n",
    "And a summary:  \n",
    "\n",
    "![](img/regex_summary.jpg \"Regex\")\n"
   ]
  },
  {
   "cell_type": "code",
   "execution_count": 9,
   "metadata": {},
   "outputs": [
    {
     "name": "stdout",
     "output_type": "stream",
     "text": [
      "['+49 178 666-6666', '+55 123 4444-5555']\n"
     ]
    }
   ],
   "source": [
    "# let's try\n",
    "import re\n",
    "\n",
    "text = 'I would like to extract a phone number, for instance, this +49 178 666-6666. Another example \\\n",
    "        is +55 123 4444-5555'\n",
    "pattern = r\"\\+\\d{2}\\s\\d{3}\\s\\d{3,4}[-]\\d{4}\"\n",
    "\n",
    "matches = re.findall(pattern, text)\n",
    "print (matches)\n"
   ]
  },
  {
   "cell_type": "code",
   "execution_count": null,
   "metadata": {},
   "outputs": [],
   "source": []
  }
 ],
 "metadata": {
  "kernelspec": {
   "display_name": "Python 3",
   "language": "python",
   "name": "python3"
  },
  "language_info": {
   "codemirror_mode": {
    "name": "ipython",
    "version": 3
   },
   "file_extension": ".py",
   "mimetype": "text/x-python",
   "name": "python",
   "nbconvert_exporter": "python",
   "pygments_lexer": "ipython3",
   "version": "3.7.5"
  }
 },
 "nbformat": 4,
 "nbformat_minor": 2
}
